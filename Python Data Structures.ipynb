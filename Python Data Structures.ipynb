{
 "cells": [
  {
   "cell_type": "markdown",
   "id": "dc8db10e-c47b-4cf6-bcfe-e315a2ece234",
   "metadata": {},
   "source": [
    "{Q1} \n",
    "How do you comment code in Python? What are the different types of comments?"
   ]
  },
  {
   "cell_type": "markdown",
   "id": "88e9ea70-8181-4747-b17d-cd7da46411ff",
   "metadata": {},
   "source": [
    "\n",
    "In Python, you can add comments to your code using the' '# symbol. The' '# symbol is used to indicate the start of a comment, and everything following it on that line will be treated as a comment If you need to write multi-line comments, you can use triple-quotes (''' or \"\"\") also. ."
   ]
  },
  {
   "cell_type": "code",
   "execution_count": 2,
   "id": "3391f776-fc61-4c26-8fbe-2ce320476dd3",
   "metadata": {},
   "outputs": [],
   "source": [
    "x=10 #these is an inline comment in python"
   ]
  },
  {
   "cell_type": "markdown",
   "id": "b6e14ecc-73b7-4905-b63d-f36084b6d009",
   "metadata": {},
   "source": [
    "{Q2} What are variables in Python? How do you declare and assign values to variables?"
   ]
  },
  {
   "cell_type": "markdown",
   "id": "39843cbb-c3e6-474b-a6b9-d2d9c9c57730",
   "metadata": {},
   "source": [
    "In Python, a variable is a name or identifier that represents a storage location in the computer's memory. Variables are used to store and manage data in a program. Unlike some other programming languages, you don't need to explicitly declare the data type of a variable in Python. The type is inferred dynamically based on the assigned value."
   ]
  },
  {
   "cell_type": "code",
   "execution_count": null,
   "id": "4f2e87a4-c0b8-4edd-a55a-6995abd59846",
   "metadata": {},
   "outputs": [],
   "source": [
    "# Declaration and assignment in a single line\n",
    "variable_name = value\n",
    "\n",
    "# Multiple assignments\n",
    "a = 5\n",
    "b = 3.2\n",
    "text = \"Hello, Python!\"\n",
    "\n",
    "# Assigning values to multiple variables in a single line\n",
    "x, y, z = 10, 20, 30\n"
   ]
  },
  {
   "cell_type": "markdown",
   "id": "88f4bd4d-f4e0-4c95-83a6-bd0713aed752",
   "metadata": {},
   "source": [
    "{Q3} How do you convert one data type to another in Python?"
   ]
  },
  {
   "cell_type": "code",
   "execution_count": 3,
   "id": "fff56f8e-65bc-4429-a2da-7e2f97739ed1",
   "metadata": {},
   "outputs": [],
   "source": [
    "# Convert to integer\n",
    "x = int(5.6)   # x will be 5\n",
    "\n",
    "# Convert to float\n",
    "y = float(\"3.14\")  # y will be 3.14\n",
    "\n",
    "# Convert to string\n",
    "z = str(42)    # z will be \"42\"\n",
    "\n",
    "# Convert to boolean\n",
    "flag = bool(0)  # flag will be False\n",
    "\n",
    "# Convert string to list of characters\n",
    "string_value = \"hello\"\n",
    "char_list = list(string_value)  # char_list will be ['h', 'e', 'l', 'l', 'o']\n",
    "\n",
    "# Convert tuple to list\n",
    "tuple_value = (1, 2, 3)\n",
    "list_value = list(tuple_value)  # list_value will be [1, 2, 3]\n",
    "\n",
    "# Convert list to set\n",
    "num_list = [1, 2, 3, 4, 5]\n",
    "num_set = set(num_list)  # num_set will be {1, 2, 3, 4, 5}\n",
    "\n",
    "# Convert list of tuples to dictionary\n",
    "key_value_pairs = [('a', 1), ('b', 2), ('c', 3)]\n",
    "my_dict = dict(key_value_pairs)  # my_dict will be {'a': 1, 'b': 2, 'c': 3}\n",
    "\n",
    "# Convert character to Unicode code point\n",
    "unicode_value = ord('A')  # unicode_value will be 65\n",
    "\n",
    "# Convert Unicode code point to character\n",
    "char_value = chr(65)  # char_value will be 'A'\n",
    "\n",
    "# Convert string to Python expression and evaluate it\n",
    "expression = \"3 + 4\"\n",
    "result = eval(expression)  # result will be 7\n",
    "\n",
    "# Convert values to string and format\n",
    "age = 25\n",
    "height = 5.9\n",
    "formatted_string = \"Age: {}, Height: {}\".format(age, height)\n",
    "# formatted_string will be \"Age: 25, Height: 5.9\"\n"
   ]
  },
  {
   "cell_type": "markdown",
   "id": "7ca56690-eb21-4004-9246-1f19599cea50",
   "metadata": {},
   "source": [
    "{Q4} How do you write and execute a Python script from the command line?"
   ]
  },
  {
   "cell_type": "markdown",
   "id": "0168af92-27aa-4bcd-bf05-2d670e353ef7",
   "metadata": {},
   "source": [
    "1. Write a Python Script:\n",
    "Open a text editor (such as Notepad, VS Code, or any other code editor) and write your Python script. Save the file with a .py extension."
   ]
  },
  {
   "cell_type": "code",
   "execution_count": 5,
   "id": "cbbcdb3a-cbf4-4004-9e96-25ab7de601bd",
   "metadata": {},
   "outputs": [
    {
     "name": "stdout",
     "output_type": "stream",
     "text": [
      "Hello World!\n"
     ]
    }
   ],
   "source": [
    "print(\"Hello World!\")"
   ]
  },
  {
   "cell_type": "markdown",
   "id": "84f0b65d-7aa4-4df2-a92b-705d08227be8",
   "metadata": {},
   "source": [
    "2. Open the Command Prompt (Windows) or Terminal (Linux/Mac):\n",
    "On Windows:\n",
    "\n",
    "Press Win + R to open the Run dialog.\n",
    "Type cmd and press Enter.\n",
    "On Linux/Mac:\n",
    "\n",
    "Open the Terminal"
   ]
  },
  {
   "cell_type": "markdown",
   "id": "2d65b6e9-b04f-480a-bc35-413ec422ccab",
   "metadata": {},
   "source": [
    "3. Navigate to the Script's Directory:\n",
    "Use the cd command to navigate to the directory where your Python script is located. For example:"
   ]
  },
  {
   "cell_type": "markdown",
   "id": "002eac02-cc3a-436a-b742-b26644819637",
   "metadata": {},
   "source": [
    "cd path/to/your/script\n"
   ]
  },
  {
   "cell_type": "markdown",
   "id": "de3c9930-0142-4d23-81c9-31fac1d7c52c",
   "metadata": {},
   "source": [
    "Replace path/to/your/script with the actual path to the directory containing your Python script.\n",
    "\n",
    "4. Execute the Python Script:\n",
    "Once you are in the correct directory, you can run your Python script using the python command followed by the script's filename:\n",
    "\n"
   ]
  },
  {
   "cell_type": "markdown",
   "id": "76298f5f-1c6f-47b3-abaf-981ba5fd22d0",
   "metadata": {},
   "source": [
    "python myscript.py\n"
   ]
  },
  {
   "cell_type": "markdown",
   "id": "031e1770-5da4-4511-95ed-90c5dd244503",
   "metadata": {},
   "source": [
    "5. Observe the Output:\r\n",
    "After executing the command, you should see the output of your Python script in the command prompt or terminal. In the example above, it would print\n",
    "\n",
    "\n",
    "Hello, Python!\r\n",
    ":"
   ]
  },
  {
   "cell_type": "markdown",
   "id": "1c6882b3-99a7-4b08-82fd-4650013e777c",
   "metadata": {},
   "source": [
    "{Q5} Given a list my_list = [1, 2, 3, 4, 5], write the code to slice the list and obtain the sub-list [2, 3]."
   ]
  },
  {
   "cell_type": "code",
   "execution_count": 8,
   "id": "357d8727-e46f-4756-b0a6-30ae96e0cfe5",
   "metadata": {},
   "outputs": [],
   "source": [
    "l = [1,2,3,4,5]"
   ]
  },
  {
   "cell_type": "code",
   "execution_count": 12,
   "id": "5339a6c3-e10a-42c3-b976-429b7586c3c7",
   "metadata": {},
   "outputs": [
    {
     "data": {
      "text/plain": [
       "[2, 3]"
      ]
     },
     "execution_count": 12,
     "metadata": {},
     "output_type": "execute_result"
    }
   ],
   "source": [
    "l[1:3]"
   ]
  },
  {
   "cell_type": "markdown",
   "id": "9ca6c3aa-af48-4477-a12e-45278328c233",
   "metadata": {},
   "source": [
    "{Q6} What is a complex number in mathematics, and how is it represented in Python?"
   ]
  },
  {
   "cell_type": "markdown",
   "id": "5dcbbe05-5777-45c7-9733-1b7b981e100c",
   "metadata": {},
   "source": [
    "In mathematics, a complex number is a number that comprises both a real part and an imaginary part. It is usually expressed in the form a + bi, where a and b are real numbers, and i is the imaginary unit (defined as the square root of -1). The real part (a) and imaginary part (b) can be positive, negative, or zero."
   ]
  },
  {
   "cell_type": "code",
   "execution_count": 13,
   "id": "f125a36e-6f7a-4ac6-9022-aa325d07e41b",
   "metadata": {},
   "outputs": [],
   "source": [
    "s = 5 +6j"
   ]
  },
  {
   "cell_type": "code",
   "execution_count": 14,
   "id": "ec7a5504-165f-4279-a278-515ebfbdf07c",
   "metadata": {},
   "outputs": [
    {
     "data": {
      "text/plain": [
       "complex"
      ]
     },
     "execution_count": 14,
     "metadata": {},
     "output_type": "execute_result"
    }
   ],
   "source": [
    "type(s)"
   ]
  },
  {
   "cell_type": "markdown",
   "id": "35799f1e-14f5-4072-93ab-4c698d46f662",
   "metadata": {},
   "source": [
    "{Q7} What is the correct way to declare a variable named age and assign the value 25 to it?"
   ]
  },
  {
   "cell_type": "code",
   "execution_count": 3,
   "id": "ddc977b3-5fdf-4f14-a67a-98c86c865e66",
   "metadata": {},
   "outputs": [
    {
     "name": "stdout",
     "output_type": "stream",
     "text": [
      "The age of person is: 25\n"
     ]
    }
   ],
   "source": [
    "age = 25\n",
    "print(\"The age of person is:\" , age)"
   ]
  },
  {
   "cell_type": "code",
   "execution_count": 2,
   "id": "822acb98-fb0b-4fb7-80bc-ebfd822d7b08",
   "metadata": {},
   "outputs": [
    {
     "name": "stdin",
     "output_type": "stream",
     "text": [
      " 25\n"
     ]
    },
    {
     "name": "stdout",
     "output_type": "stream",
     "text": [
      "The age of person is: 25\n"
     ]
    }
   ],
   "source": [
    "Age = int(input())\n",
    "print(\"The age of person is:\" , Age)"
   ]
  },
  {
   "cell_type": "markdown",
   "id": "d3d48d3d-8b4f-4ca7-bac5-69a16e990c8b",
   "metadata": {},
   "source": [
    "{Q8} Declare a variable named price and assign the value 9.99 to it. What data type does this variable\r\n",
    "belong to?"
   ]
  },
  {
   "cell_type": "code",
   "execution_count": 6,
   "id": "311781b5-30f1-44bc-8ce5-84607ea00ed4",
   "metadata": {},
   "outputs": [
    {
     "data": {
      "text/plain": [
       "float"
      ]
     },
     "execution_count": 6,
     "metadata": {},
     "output_type": "execute_result"
    }
   ],
   "source": [
    "price = 9.99\n",
    "type(price)"
   ]
  },
  {
   "cell_type": "markdown",
   "id": "20d1b510-8aa5-4d46-9606-3783554c3e47",
   "metadata": {},
   "source": [
    "{Q9} Create a variable named name and assign your full name to it as a string. How would you print the\n",
    "value of this variable?\n"
   ]
  },
  {
   "cell_type": "code",
   "execution_count": 8,
   "id": "d744c38f-3858-47f5-b180-9ee9a9c13976",
   "metadata": {},
   "outputs": [
    {
     "name": "stdout",
     "output_type": "stream",
     "text": [
      "Your name is: Karan chavda\n"
     ]
    }
   ],
   "source": [
    "name = \"Karan chavda\"\n",
    "print(\"Your name is:\" , name)"
   ]
  },
  {
   "cell_type": "markdown",
   "id": "3d1d04b5-ad25-418b-a21c-a277787c64a6",
   "metadata": {},
   "source": [
    "{Q10} Given the string \"Hello, World!\", extract the substring \"World\"."
   ]
  },
  {
   "cell_type": "code",
   "execution_count": 9,
   "id": "c2900149-87d1-44b2-bc34-dc17570bd34c",
   "metadata": {},
   "outputs": [],
   "source": [
    "p = \"Hello World!\""
   ]
  },
  {
   "cell_type": "code",
   "execution_count": 16,
   "id": "d0e655f3-2adb-4fc3-9dbe-cc8c0358c79c",
   "metadata": {},
   "outputs": [
    {
     "data": {
      "text/plain": [
       "'Hello World!'"
      ]
     },
     "execution_count": 16,
     "metadata": {},
     "output_type": "execute_result"
    }
   ],
   "source": [
    "p"
   ]
  },
  {
   "cell_type": "code",
   "execution_count": 18,
   "id": "376e204f-0d57-40a0-902e-ef729825fdc7",
   "metadata": {},
   "outputs": [
    {
     "data": {
      "text/plain": [
       "'World'"
      ]
     },
     "execution_count": 18,
     "metadata": {},
     "output_type": "execute_result"
    }
   ],
   "source": [
    "p[6:11]"
   ]
  },
  {
   "cell_type": "markdown",
   "id": "18ae2620-6e3c-4415-b1f3-6205527f2b84",
   "metadata": {},
   "source": [
    "{Q11} Create a variable named \"is_student\" and assign it a boolean value indicating whether you are\n",
    "currently a student or not."
   ]
  },
  {
   "cell_type": "code",
   "execution_count": 19,
   "id": "6d186492-42ca-4675-aff3-2c215bcf1f3b",
   "metadata": {},
   "outputs": [
    {
     "name": "stdout",
     "output_type": "stream",
     "text": [
      "Am I Currently a student? False\n"
     ]
    }
   ],
   "source": [
    "is_student = True  # If you are currently a student\n",
    "# or\n",
    "is_student = False  # If you are not currently a student\n",
    "\n",
    "print(\"Am I Currently a student?\", is_student)"
   ]
  },
  {
   "cell_type": "code",
   "execution_count": null,
   "id": "59815cfe-d7b0-4fd6-bf95-205bf58495bb",
   "metadata": {},
   "outputs": [],
   "source": []
  },
  {
   "cell_type": "code",
   "execution_count": null,
   "id": "6092a835-3561-4472-bb67-c59ea244ecd9",
   "metadata": {},
   "outputs": [],
   "source": []
  },
  {
   "cell_type": "code",
   "execution_count": null,
   "id": "090c1374-8165-4a15-b65a-f21606fc1c46",
   "metadata": {},
   "outputs": [],
   "source": []
  },
  {
   "cell_type": "code",
   "execution_count": null,
   "id": "4cd52ab5-5dc4-42a7-9d51-26be79071f38",
   "metadata": {},
   "outputs": [],
   "source": []
  },
  {
   "cell_type": "code",
   "execution_count": null,
   "id": "46606404-79ae-419c-8538-5622f7950f13",
   "metadata": {},
   "outputs": [],
   "source": []
  }
 ],
 "metadata": {
  "kernelspec": {
   "display_name": "Python 3 (ipykernel)",
   "language": "python",
   "name": "python3"
  },
  "language_info": {
   "codemirror_mode": {
    "name": "ipython",
    "version": 3
   },
   "file_extension": ".py",
   "mimetype": "text/x-python",
   "name": "python",
   "nbconvert_exporter": "python",
   "pygments_lexer": "ipython3",
   "version": "3.12.0"
  }
 },
 "nbformat": 4,
 "nbformat_minor": 5
}
